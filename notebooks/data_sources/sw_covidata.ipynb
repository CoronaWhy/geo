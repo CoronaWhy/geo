{
 "cells": [
  {
   "cell_type": "markdown",
   "metadata": {},
   "source": [
    "# Sweden daily counts of cases and deaths per region"
   ]
  },
  {
   "cell_type": "markdown",
   "metadata": {},
   "source": [
    "This notebook shows how to fetch the daily updated covid 19 cases data from Sweden"
   ]
  },
  {
   "cell_type": "markdown",
   "metadata": {},
   "source": [
    "## Data sources"
   ]
  },
  {
   "cell_type": "markdown",
   "metadata": {},
   "source": [
    "### Primary data"
   ]
  },
  {
   "cell_type": "markdown",
   "metadata": {},
   "source": [
    "Primary data is fetched from from Github repository of www.coronakartan.se. The github repository (https://github.com/elinlutz/gatsby-map) is daily synced with data from Public Health Agency of Sweden."
   ]
  },
  {
   "cell_type": "markdown",
   "metadata": {},
   "source": [
    "Dataset provides following info per region: \n",
    "- daily cases\n",
    "- daily deaths\n",
    "- At_Hospital, \n",
    "- At_ICU, \n",
    "- Hospital_Total, \n",
    "- ICU_Capacity_2017, \n",
    "- HM_ICU_Est, \n",
    "- Region_Deaths, \n",
    "- FHM_Deaths_Today*, \n",
    "- Diff. \n",
    "\n",
    "*FHM = Public Health Agency of Sweden\n",
    "\n",
    "This module retrieves the first 2 elements only: daily cases and deaths"
   ]
  },
  {
   "cell_type": "markdown",
   "metadata": {},
   "source": [
    "### Secondary data"
   ]
  },
  {
   "cell_type": "markdown",
   "metadata": {},
   "source": [
    "Secondary data contains geographical/political subdivision of Sweden following ISO 3166-2 (https://www.iso.org/obp/ui/#iso:code:3166:SE). The data is stored in sw_covidata.py as code."
   ]
  },
  {
   "cell_type": "markdown",
   "metadata": {},
   "source": [
    "## Usage [needs to be updated when integrated with task geo]"
   ]
  },
  {
   "cell_type": "code",
   "execution_count": null,
   "metadata": {},
   "outputs": [],
   "source": [
    "# from task_geo.data_sources.covid.sweden import sw_covidata\n",
    "# data = sw_covidata()\n",
    "# data.head()"
   ]
  }
 ],
 "metadata": {
  "kernelspec": {
   "display_name": "Python 3",
   "language": "python",
   "name": "python3"
  },
  "language_info": {
   "codemirror_mode": {
    "name": "ipython",
    "version": 3
   },
   "file_extension": ".py",
   "mimetype": "text/x-python",
   "name": "python",
   "nbconvert_exporter": "python",
   "pygments_lexer": "ipython3",
   "version": "3.7.4"
  }
 },
 "nbformat": 4,
 "nbformat_minor": 4
}
